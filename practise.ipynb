{
 "cells": [
  {
   "cell_type": "code",
   "execution_count": 1,
   "id": "180c603a",
   "metadata": {},
   "outputs": [],
   "source": [
    "i= 1 + 2j"
   ]
  },
  {
   "cell_type": "code",
   "execution_count": 2,
   "id": "a6dadfd9",
   "metadata": {},
   "outputs": [
    {
     "data": {
      "text/plain": [
       "(1+2j)"
      ]
     },
     "execution_count": 2,
     "metadata": {},
     "output_type": "execute_result"
    }
   ],
   "source": [
    "i"
   ]
  },
  {
   "cell_type": "code",
   "execution_count": 3,
   "id": "8dbc88a1",
   "metadata": {},
   "outputs": [
    {
     "data": {
      "text/plain": [
       "complex"
      ]
     },
     "execution_count": 3,
     "metadata": {},
     "output_type": "execute_result"
    }
   ],
   "source": [
    "type(i)"
   ]
  },
  {
   "cell_type": "code",
   "execution_count": 4,
   "id": "414dccfb",
   "metadata": {},
   "outputs": [
    {
     "data": {
      "text/plain": [
       "2.0"
      ]
     },
     "execution_count": 4,
     "metadata": {},
     "output_type": "execute_result"
    }
   ],
   "source": [
    "i.imag"
   ]
  },
  {
   "cell_type": "code",
   "execution_count": 5,
   "id": "faccca23",
   "metadata": {},
   "outputs": [
    {
     "data": {
      "text/plain": [
       "2664102071600"
      ]
     },
     "execution_count": 5,
     "metadata": {},
     "output_type": "execute_result"
    }
   ],
   "source": [
    "id(i)"
   ]
  },
  {
   "cell_type": "code",
   "execution_count": 6,
   "id": "e6d7e49f",
   "metadata": {},
   "outputs": [
    {
     "data": {
      "text/plain": [
       "float"
      ]
     },
     "execution_count": 6,
     "metadata": {},
     "output_type": "execute_result"
    }
   ],
   "source": [
    "x=1.0\n",
    "type(x)"
   ]
  },
  {
   "cell_type": "code",
   "execution_count": 7,
   "id": "db26409c",
   "metadata": {},
   "outputs": [
    {
     "data": {
      "text/plain": [
       "bool"
      ]
     },
     "execution_count": 7,
     "metadata": {},
     "output_type": "execute_result"
    }
   ],
   "source": [
    "k= False\n",
    "type(k)"
   ]
  },
  {
   "cell_type": "code",
   "execution_count": 8,
   "id": "aba4ad9d",
   "metadata": {},
   "outputs": [
    {
     "data": {
      "text/plain": [
       "2"
      ]
     },
     "execution_count": 8,
     "metadata": {},
     "output_type": "execute_result"
    }
   ],
   "source": [
    "True + True"
   ]
  },
  {
   "cell_type": "code",
   "execution_count": 9,
   "id": "1055a87f",
   "metadata": {},
   "outputs": [
    {
     "data": {
      "text/plain": [
       "1"
      ]
     },
     "execution_count": 9,
     "metadata": {},
     "output_type": "execute_result"
    }
   ],
   "source": [
    "True + False"
   ]
  },
  {
   "cell_type": "code",
   "execution_count": 10,
   "id": "3b84e602",
   "metadata": {},
   "outputs": [
    {
     "data": {
      "text/plain": [
       "1"
      ]
     },
     "execution_count": 10,
     "metadata": {},
     "output_type": "execute_result"
    }
   ],
   "source": [
    "False + True "
   ]
  },
  {
   "cell_type": "code",
   "execution_count": 11,
   "id": "d6e1b3ab",
   "metadata": {},
   "outputs": [
    {
     "data": {
      "text/plain": [
       "0"
      ]
     },
     "execution_count": 11,
     "metadata": {},
     "output_type": "execute_result"
    }
   ],
   "source": [
    "False + False "
   ]
  },
  {
   "cell_type": "code",
   "execution_count": 12,
   "id": "8548d37f",
   "metadata": {},
   "outputs": [
    {
     "data": {
      "text/plain": [
       "str"
      ]
     },
     "execution_count": 12,
     "metadata": {},
     "output_type": "execute_result"
    }
   ],
   "source": [
    "name = \"shruti\"\n",
    "name\n",
    "type(name)"
   ]
  },
  {
   "cell_type": "code",
   "execution_count": 13,
   "id": "5a13b4f5",
   "metadata": {},
   "outputs": [
    {
     "data": {
      "text/plain": [
       "'shruti'"
      ]
     },
     "execution_count": 13,
     "metadata": {},
     "output_type": "execute_result"
    }
   ],
   "source": [
    "name"
   ]
  },
  {
   "cell_type": "code",
   "execution_count": 14,
   "id": "f432f32b",
   "metadata": {},
   "outputs": [
    {
     "ename": "TypeError",
     "evalue": "unsupported operand type(s) for +: 'int' and 'str'",
     "output_type": "error",
     "traceback": [
      "\u001b[1;31m---------------------------------------------------------------------------\u001b[0m",
      "\u001b[1;31mTypeError\u001b[0m                                 Traceback (most recent call last)",
      "\u001b[1;32m~\\AppData\\Local\\Temp\\ipykernel_11008\\2459671775.py\u001b[0m in \u001b[0;36m<module>\u001b[1;34m\u001b[0m\n\u001b[0;32m      1\u001b[0m \u001b[1;31m#type casting\u001b[0m\u001b[1;33m\u001b[0m\u001b[1;33m\u001b[0m\u001b[0m\n\u001b[1;32m----> 2\u001b[1;33m \u001b[1;36m1\u001b[0m\u001b[1;33m+\u001b[0m\u001b[1;34m\"shruti\"\u001b[0m\u001b[1;33m\u001b[0m\u001b[1;33m\u001b[0m\u001b[0m\n\u001b[0m",
      "\u001b[1;31mTypeError\u001b[0m: unsupported operand type(s) for +: 'int' and 'str'"
     ]
    }
   ],
   "source": [
    "#type casting\n",
    "1+\"shruti\""
   ]
  },
  {
   "cell_type": "code",
   "execution_count": null,
   "id": "1f446ee4",
   "metadata": {},
   "outputs": [],
   "source": [
    "str(1)+\"shruti\""
   ]
  },
  {
   "cell_type": "code",
   "execution_count": 15,
   "id": "a78da461",
   "metadata": {},
   "outputs": [
    {
     "data": {
      "text/plain": [
       "'shrutishrutishrutishrutishrutishrutishrutishrutishrutishruti'"
      ]
     },
     "execution_count": 15,
     "metadata": {},
     "output_type": "execute_result"
    }
   ],
   "source": [
    "\"shruti\" * 10"
   ]
  },
  {
   "cell_type": "code",
   "execution_count": 16,
   "id": "3bb19f00",
   "metadata": {},
   "outputs": [
    {
     "data": {
      "text/plain": [
       "12"
      ]
     },
     "execution_count": 16,
     "metadata": {},
     "output_type": "execute_result"
    }
   ],
   "source": [
    "4*3"
   ]
  },
  {
   "cell_type": "code",
   "execution_count": 17,
   "id": "0fcbedf9",
   "metadata": {
    "scrolled": true
   },
   "outputs": [
    {
     "data": {
      "text/plain": [
       "64"
      ]
     },
     "execution_count": 17,
     "metadata": {},
     "output_type": "execute_result"
    }
   ],
   "source": [
    "4**3"
   ]
  },
  {
   "cell_type": "code",
   "execution_count": 19,
   "id": "99e16c4f",
   "metadata": {},
   "outputs": [
    {
     "name": "stdout",
     "output_type": "stream",
     "text": [
      "deault\n"
     ]
    }
   ],
   "source": [
    "a=9\n",
    "\n",
    "if(a < 3):\n",
    "    print(\"this is my irst code\")\n",
    "elif a<6:\n",
    "    print(\"elif part\")\n",
    "else:\n",
    "    print(\"deault\")"
   ]
  },
  {
   "cell_type": "markdown",
   "id": "87d79ae7",
   "metadata": {},
   "source": [
    "# list"
   ]
  },
  {
   "cell_type": "code",
   "execution_count": 2,
   "id": "f047cb8c",
   "metadata": {},
   "outputs": [
    {
     "data": {
      "text/plain": [
       "list"
      ]
     },
     "execution_count": 2,
     "metadata": {},
     "output_type": "execute_result"
    }
   ],
   "source": [
    "k = []\n",
    "type(k)"
   ]
  },
  {
   "cell_type": "code",
   "execution_count": 3,
   "id": "39e7f07a",
   "metadata": {},
   "outputs": [
    {
     "data": {
      "text/plain": [
       "list"
      ]
     },
     "execution_count": 3,
     "metadata": {},
     "output_type": "execute_result"
    }
   ],
   "source": [
    "m= list()\n",
    "type(m)"
   ]
  },
  {
   "cell_type": "code",
   "execution_count": 4,
   "id": "9691745e",
   "metadata": {},
   "outputs": [
    {
     "data": {
      "text/plain": [
       "['shruti', 'tripathi', 'vinod', 123, 12.5, (6+7j)]"
      ]
     },
     "execution_count": 4,
     "metadata": {},
     "output_type": "execute_result"
    }
   ],
   "source": [
    "k=[\"shruti\" , \"tripathi\" , \"vinod\",123 , 12.50 , 6+7j]\n",
    "k"
   ]
  },
  {
   "cell_type": "code",
   "execution_count": 5,
   "id": "130289e4",
   "metadata": {},
   "outputs": [
    {
     "data": {
      "text/plain": [
       "['tripathi', 'vinod', 123]"
      ]
     },
     "execution_count": 5,
     "metadata": {},
     "output_type": "execute_result"
    }
   ],
   "source": [
    "k[1:4]"
   ]
  },
  {
   "cell_type": "code",
   "execution_count": 7,
   "id": "1e5ae1eb",
   "metadata": {},
   "outputs": [
    {
     "data": {
      "text/plain": [
       "['tripathi', 123]"
      ]
     },
     "execution_count": 7,
     "metadata": {},
     "output_type": "execute_result"
    }
   ],
   "source": [
    "k[1:4:2]"
   ]
  },
  {
   "cell_type": "code",
   "execution_count": 8,
   "id": "7f2c323f",
   "metadata": {},
   "outputs": [
    {
     "data": {
      "text/plain": [
       "[12.5, 123, 'vinod']"
      ]
     },
     "execution_count": 8,
     "metadata": {},
     "output_type": "execute_result"
    }
   ],
   "source": [
    "k[4:1:-1]"
   ]
  },
  {
   "cell_type": "code",
   "execution_count": 9,
   "id": "cd8e3018",
   "metadata": {},
   "outputs": [
    {
     "data": {
      "text/plain": [
       "[(6+7j), 12.5, 123, 'vinod', 'tripathi', 'shruti']"
      ]
     },
     "execution_count": 9,
     "metadata": {},
     "output_type": "execute_result"
    }
   ],
   "source": [
    "k[::-1]"
   ]
  },
  {
   "cell_type": "code",
   "execution_count": 10,
   "id": "85481ef2",
   "metadata": {},
   "outputs": [
    {
     "data": {
      "text/plain": [
       "'iturhs'"
      ]
     },
     "execution_count": 10,
     "metadata": {},
     "output_type": "execute_result"
    }
   ],
   "source": [
    "s=\"shruti\"\n",
    "s[::-1]"
   ]
  },
  {
   "cell_type": "code",
   "execution_count": 15,
   "id": "03b9b344",
   "metadata": {},
   "outputs": [],
   "source": [
    "if type(k) == str:\n",
    "    print(k)"
   ]
  },
  {
   "cell_type": "code",
   "execution_count": 14,
   "id": "aef93392",
   "metadata": {},
   "outputs": [
    {
     "name": "stdout",
     "output_type": "stream",
     "text": [
      "shruti\n",
      "tripathi\n",
      "vinod\n"
     ]
    }
   ],
   "source": [
    "for i in k:\n",
    "    if type(i) == str:\n",
    "        print(i)"
   ]
  },
  {
   "cell_type": "code",
   "execution_count": 17,
   "id": "e7547251",
   "metadata": {},
   "outputs": [
    {
     "name": "stdout",
     "output_type": "stream",
     "text": [
      "complex\n"
     ]
    }
   ],
   "source": [
    "i=3+4J\n",
    "b=type(i)\n",
    "\n",
    "if b == complex:\n",
    "    print(\"complex\")\n",
    "else:\n",
    "    print(\"not complex\")"
   ]
  },
  {
   "cell_type": "code",
   "execution_count": 18,
   "id": "608b6163",
   "metadata": {},
   "outputs": [
    {
     "data": {
      "text/plain": [
       "['s', 'h', 'r', 'u', 't', 'i']"
      ]
     },
     "execution_count": 18,
     "metadata": {},
     "output_type": "execute_result"
    }
   ],
   "source": [
    "m=list(\"shruti\")\n",
    "m"
   ]
  },
  {
   "cell_type": "code",
   "execution_count": 19,
   "id": "cac521af",
   "metadata": {},
   "outputs": [
    {
     "ename": "TypeError",
     "evalue": "list expected at most 1 argument, got 2",
     "output_type": "error",
     "traceback": [
      "\u001b[1;31m---------------------------------------------------------------------------\u001b[0m",
      "\u001b[1;31mTypeError\u001b[0m                                 Traceback (most recent call last)",
      "\u001b[1;32m~\\AppData\\Local\\Temp\\ipykernel_6444\\3960241739.py\u001b[0m in \u001b[0;36m<module>\u001b[1;34m\u001b[0m\n\u001b[1;32m----> 1\u001b[1;33m \u001b[0mm\u001b[0m\u001b[1;33m=\u001b[0m\u001b[0mlist\u001b[0m\u001b[1;33m(\u001b[0m\u001b[1;34m\"shruti\"\u001b[0m\u001b[1;33m,\u001b[0m \u001b[1;34m\"tripathi\"\u001b[0m\u001b[1;33m)\u001b[0m\u001b[1;33m\u001b[0m\u001b[1;33m\u001b[0m\u001b[0m\n\u001b[0m\u001b[0;32m      2\u001b[0m \u001b[0mm\u001b[0m\u001b[1;33m\u001b[0m\u001b[1;33m\u001b[0m\u001b[0m\n",
      "\u001b[1;31mTypeError\u001b[0m: list expected at most 1 argument, got 2"
     ]
    }
   ],
   "source": [
    "m=list(\"shruti\", \"tripathi\")\n",
    "m"
   ]
  },
  {
   "cell_type": "code",
   "execution_count": 20,
   "id": "be20f883",
   "metadata": {},
   "outputs": [
    {
     "data": {
      "text/plain": [
       "['shruti', 'tripathi']"
      ]
     },
     "execution_count": 20,
     "metadata": {},
     "output_type": "execute_result"
    }
   ],
   "source": [
    "m=list([\"shruti\", \"tripathi\"])\n",
    "m"
   ]
  },
  {
   "cell_type": "code",
   "execution_count": 21,
   "id": "85db6e26",
   "metadata": {},
   "outputs": [
    {
     "data": {
      "text/plain": [
       "'hu'"
      ]
     },
     "execution_count": 21,
     "metadata": {},
     "output_type": "execute_result"
    }
   ],
   "source": [
    "s=\"shruti\"\n",
    "s[1:4:2]"
   ]
  },
  {
   "cell_type": "markdown",
   "id": "72324c05",
   "metadata": {},
   "source": [
    "# apend"
   ]
  },
  {
   "cell_type": "markdown",
   "id": "6c583b23",
   "metadata": {},
   "source": [
    "append always append a data in tail"
   ]
  },
  {
   "cell_type": "code",
   "execution_count": 37,
   "id": "d978801c",
   "metadata": {},
   "outputs": [],
   "source": [
    "l=[]\n",
    "l.append(\"shruti\")\n",
    "l.append(\"tripathi\")\n",
    "l.append(29)"
   ]
  },
  {
   "cell_type": "code",
   "execution_count": 38,
   "id": "4c44ba74",
   "metadata": {},
   "outputs": [
    {
     "data": {
      "text/plain": [
       "['shruti', 'tripathi', 29]"
      ]
     },
     "execution_count": 38,
     "metadata": {},
     "output_type": "execute_result"
    }
   ],
   "source": [
    "l"
   ]
  },
  {
   "cell_type": "markdown",
   "id": "5c5053cf",
   "metadata": {},
   "source": [
    "# insert"
   ]
  },
  {
   "cell_type": "markdown",
   "id": "6f4e4b4c",
   "metadata": {},
   "source": [
    "l.insert(index,object)\n",
    "it takes two argument first where we insert index and second what we insert"
   ]
  },
  {
   "cell_type": "code",
   "execution_count": 39,
   "id": "e3609194",
   "metadata": {},
   "outputs": [],
   "source": [
    "l.insert(0,[\"vinod\",\"mamta\"])"
   ]
  },
  {
   "cell_type": "code",
   "execution_count": 40,
   "id": "18be9de9",
   "metadata": {},
   "outputs": [
    {
     "data": {
      "text/plain": [
       "[['vinod', 'mamta'], 'shruti', 'tripathi', 29]"
      ]
     },
     "execution_count": 40,
     "metadata": {},
     "output_type": "execute_result"
    }
   ],
   "source": [
    "l"
   ]
  },
  {
   "cell_type": "code",
   "execution_count": 41,
   "id": "5c9a0b63",
   "metadata": {},
   "outputs": [
    {
     "data": {
      "text/plain": [
       "['vinod', 'mamta']"
      ]
     },
     "execution_count": 41,
     "metadata": {},
     "output_type": "execute_result"
    }
   ],
   "source": [
    "l[0]"
   ]
  },
  {
   "cell_type": "code",
   "execution_count": 42,
   "id": "e1fba228",
   "metadata": {},
   "outputs": [
    {
     "data": {
      "text/plain": [
       "'mamta'"
      ]
     },
     "execution_count": 42,
     "metadata": {},
     "output_type": "execute_result"
    }
   ],
   "source": [
    "l[0][1]"
   ]
  },
  {
   "cell_type": "code",
   "execution_count": 43,
   "id": "59f116c7",
   "metadata": {},
   "outputs": [
    {
     "data": {
      "text/plain": [
       "['m', 'a', 'm', 't', 'a']"
      ]
     },
     "execution_count": 43,
     "metadata": {},
     "output_type": "execute_result"
    }
   ],
   "source": [
    "list(l[0][1])"
   ]
  },
  {
   "cell_type": "code",
   "execution_count": 45,
   "id": "66a4201f",
   "metadata": {},
   "outputs": [
    {
     "name": "stdout",
     "output_type": "stream",
     "text": [
      "s\n",
      "h\n",
      "r\n",
      "u\n",
      "t\n",
      "i\n"
     ]
    }
   ],
   "source": [
    "s=\"shruti\"\n",
    "for i in s:\n",
    "    print(i)"
   ]
  },
  {
   "cell_type": "code",
   "execution_count": 47,
   "id": "bf64be18",
   "metadata": {},
   "outputs": [
    {
     "name": "stdout",
     "output_type": "stream",
     "text": [
      "<class 'int'>\n",
      "<class 'int'>\n",
      "<class 'int'>\n",
      "<class 'str'>\n"
     ]
    }
   ],
   "source": [
    "for i in [1,2,3,\"sudh\"]:\n",
    "    print(type(i))"
   ]
  },
  {
   "cell_type": "code",
   "execution_count": 49,
   "id": "d7e8746f",
   "metadata": {},
   "outputs": [
    {
     "name": "stdout",
     "output_type": "stream",
     "text": [
      "hdus\n"
     ]
    }
   ],
   "source": [
    "if type(i)==str:\n",
    "    print(i[::-1])"
   ]
  },
  {
   "cell_type": "code",
   "execution_count": 56,
   "id": "bb6ab519",
   "metadata": {},
   "outputs": [
    {
     "data": {
      "text/plain": [
       "['ihtapirt', 'doniv', 'atmam']"
      ]
     },
     "execution_count": 56,
     "metadata": {},
     "output_type": "execute_result"
    }
   ],
   "source": [
    "l=[]\n",
    "for i in [1,2,3,\"shruti\",[\"mamta\",\"vinod\",\"tripathi\"]]:\n",
    "    if type(i)==list:\n",
    "        for j in i[::-1]:\n",
    "            l.append(j[::-1])\n",
    "l       "
   ]
  },
  {
   "cell_type": "code",
   "execution_count": 57,
   "id": "94ed9b37",
   "metadata": {},
   "outputs": [
    {
     "name": "stdout",
     "output_type": "stream",
     "text": [
      "46\n"
     ]
    }
   ],
   "source": [
    "#program to find the sum of all numbers stored in a list\n",
    "\n",
    "numbers=[6, 5, 3, 8, 4, 2, 5, 4, 9]\n",
    "\n",
    "sum = 0\n",
    "for val in numbers:\n",
    "    sum = sum+val\n",
    "    \n",
    "print(sum)"
   ]
  },
  {
   "cell_type": "code",
   "execution_count": 58,
   "id": "ca7f56bb",
   "metadata": {},
   "outputs": [
    {
     "name": "stdout",
     "output_type": "stream",
     "text": [
      "55\n"
     ]
    }
   ],
   "source": [
    "n=10\n",
    "sum=0\n",
    "i=1\n",
    "while(i<=n):\n",
    "    sum=sum+i\n",
    "    i=i+1\n",
    "    \n",
    "print(sum)"
   ]
  },
  {
   "cell_type": "markdown",
   "id": "8c907d15",
   "metadata": {},
   "source": [
    "# range"
   ]
  },
  {
   "cell_type": "code",
   "execution_count": 72,
   "id": "a6a176be",
   "metadata": {},
   "outputs": [
    {
     "data": {
      "text/plain": [
       "range(0, 10)"
      ]
     },
     "execution_count": 72,
     "metadata": {},
     "output_type": "execute_result"
    }
   ],
   "source": [
    "range(10)"
   ]
  },
  {
   "cell_type": "code",
   "execution_count": 63,
   "id": "fc432182",
   "metadata": {},
   "outputs": [
    {
     "data": {
      "text/plain": [
       "[0, 1, 2, 3, 4, 5, 6, 7, 8, 9]"
      ]
     },
     "execution_count": 63,
     "metadata": {},
     "output_type": "execute_result"
    }
   ],
   "source": [
    "list(range(0,10))"
   ]
  },
  {
   "cell_type": "code",
   "execution_count": 70,
   "id": "eb934c39",
   "metadata": {},
   "outputs": [
    {
     "data": {
      "text/plain": [
       "[0, 1, 2, 3, 4]"
      ]
     },
     "execution_count": 70,
     "metadata": {},
     "output_type": "execute_result"
    }
   ],
   "source": [
    "list(range(0,5,1))"
   ]
  },
  {
   "cell_type": "code",
   "execution_count": 73,
   "id": "37b36cbf",
   "metadata": {},
   "outputs": [
    {
     "data": {
      "text/plain": [
       "10"
      ]
     },
     "execution_count": 73,
     "metadata": {},
     "output_type": "execute_result"
    }
   ],
   "source": [
    "len(range(10))"
   ]
  },
  {
   "cell_type": "code",
   "execution_count": 75,
   "id": "38a98aba",
   "metadata": {},
   "outputs": [
    {
     "name": "stdout",
     "output_type": "stream",
     "text": [
      "shruti\n",
      "xfgjbbb\n",
      "17\n"
     ]
    }
   ],
   "source": [
    "l=[\"shruti\" ,\"tripathi\",\"xfgjbbb\",12,17,19]\n",
    "for i in range(0,len(l),2):\n",
    "    print(l[i])"
   ]
  },
  {
   "cell_type": "code",
   "execution_count": 78,
   "id": "d1c37719",
   "metadata": {},
   "outputs": [
    {
     "name": "stdout",
     "output_type": "stream",
     "text": [
      "[19, 17, 12, 'xfgjbbb', 'tripathi', 'shruti']\n"
     ]
    }
   ],
   "source": [
    "m=[]\n",
    "l=[\"shruti\" ,\"tripathi\",\"xfgjbbb\",12,17,19]\n",
    "for i in range(len(l)-1,-1,-1):\n",
    "    m.append(l[i])\n",
    "    \n",
    "print(m)"
   ]
  },
  {
   "cell_type": "markdown",
   "id": "b4a2d99b",
   "metadata": {},
   "source": [
    "# assignment"
   ]
  },
  {
   "cell_type": "markdown",
   "id": "f2e7655a",
   "metadata": {},
   "source": [
    "Write a program which will find all such numbers which are divisible by 7 but are not a multiple of 5, between 2000 and 3200 (both included). The numbers obtained should be printed\n",
    "in a comma-separated sequence on a single line."
   ]
  },
  {
   "cell_type": "code",
   "execution_count": 1,
   "id": "79082981",
   "metadata": {},
   "outputs": [
    {
     "name": "stdout",
     "output_type": "stream",
     "text": [
      "2002\n",
      "2009\n",
      "2016\n",
      "2023\n",
      "2037\n",
      "2044\n",
      "2051\n",
      "2058\n",
      "2072\n",
      "2079\n",
      "2086\n",
      "2093\n",
      "2107\n",
      "2114\n",
      "2121\n",
      "2128\n",
      "2142\n",
      "2149\n",
      "2156\n",
      "2163\n",
      "2177\n",
      "2184\n",
      "2191\n",
      "2198\n",
      "2212\n",
      "2219\n",
      "2226\n",
      "2233\n",
      "2247\n",
      "2254\n",
      "2261\n",
      "2268\n",
      "2282\n",
      "2289\n",
      "2296\n",
      "2303\n",
      "2317\n",
      "2324\n",
      "2331\n",
      "2338\n",
      "2352\n",
      "2359\n",
      "2366\n",
      "2373\n",
      "2387\n",
      "2394\n",
      "2401\n",
      "2408\n",
      "2422\n",
      "2429\n",
      "2436\n",
      "2443\n",
      "2457\n",
      "2464\n",
      "2471\n",
      "2478\n",
      "2492\n",
      "2499\n",
      "2506\n",
      "2513\n",
      "2527\n",
      "2534\n",
      "2541\n",
      "2548\n",
      "2562\n",
      "2569\n",
      "2576\n",
      "2583\n",
      "2597\n",
      "2604\n",
      "2611\n",
      "2618\n",
      "2632\n",
      "2639\n",
      "2646\n",
      "2653\n",
      "2667\n",
      "2674\n",
      "2681\n",
      "2688\n",
      "2702\n",
      "2709\n",
      "2716\n",
      "2723\n",
      "2737\n",
      "2744\n",
      "2751\n",
      "2758\n",
      "2772\n",
      "2779\n",
      "2786\n",
      "2793\n",
      "2807\n",
      "2814\n",
      "2821\n",
      "2828\n",
      "2842\n",
      "2849\n",
      "2856\n",
      "2863\n",
      "2877\n",
      "2884\n",
      "2891\n",
      "2898\n",
      "2912\n",
      "2919\n",
      "2926\n",
      "2933\n",
      "2947\n",
      "2954\n",
      "2961\n",
      "2968\n",
      "2982\n",
      "2989\n",
      "2996\n",
      "3003\n",
      "3017\n",
      "3024\n",
      "3031\n",
      "3038\n",
      "3052\n",
      "3059\n",
      "3066\n",
      "3073\n",
      "3087\n",
      "3094\n",
      "3101\n",
      "3108\n",
      "3122\n",
      "3129\n",
      "3136\n",
      "3143\n",
      "3157\n",
      "3164\n",
      "3171\n",
      "3178\n",
      "3192\n",
      "3199\n"
     ]
    }
   ],
   "source": [
    "for i in range(2000,3200):\n",
    "    if (i%7==0) and (i%5!=0):\n",
    "        print(i,end='\\n')"
   ]
  },
  {
   "cell_type": "markdown",
   "id": "7f7b45ce",
   "metadata": {},
   "source": [
    "2. Write a Python program to accept the user's first and last name and then getting them printed in the the reverse order with a space between first name and last name."
   ]
  },
  {
   "cell_type": "code",
   "execution_count": 3,
   "id": "d297f4f4",
   "metadata": {},
   "outputs": [
    {
     "name": "stdout",
     "output_type": "stream",
     "text": [
      "print first name : shruti\n",
      "print second name :tripathi\n",
      "shruti tripathi\n",
      "ihtapirt iturhs\n"
     ]
    }
   ],
   "source": [
    "name = input(\"print first name : \")\n",
    "name2 =input(\"print second name :\")\n",
    "fullname = name+\" \"+name2\n",
    "print(fullname)\n",
    "print(fullname[::-1])"
   ]
  },
  {
   "cell_type": "markdown",
   "id": "717dcf38",
   "metadata": {},
   "source": [
    "Write a Python program to find the volume of a sphere with diameter 12 cm.\n",
    "Formula: V=4/3 * π * r 3"
   ]
  },
  {
   "cell_type": "code",
   "execution_count": 6,
   "id": "26fe43b4",
   "metadata": {},
   "outputs": [
    {
     "name": "stdout",
     "output_type": "stream",
     "text": [
      "904.7786842338603\n"
     ]
    }
   ],
   "source": [
    "import math\n",
    "math.pi\n",
    "d=12\n",
    "r=float(d/2)\n",
    "v=(float(4/3)*(math.pi)*(r)**3)\n",
    "print(v)"
   ]
  },
  {
   "cell_type": "markdown",
   "id": "a8c00b7b",
   "metadata": {},
   "source": [
    "# string"
   ]
  },
  {
   "cell_type": "code",
   "execution_count": 7,
   "id": "e7a43292",
   "metadata": {},
   "outputs": [],
   "source": [
    "s=\"Hello World\""
   ]
  },
  {
   "cell_type": "code",
   "execution_count": 8,
   "id": "26e5b548",
   "metadata": {},
   "outputs": [
    {
     "data": {
      "text/plain": [
       "'Hello World'"
      ]
     },
     "execution_count": 8,
     "metadata": {},
     "output_type": "execute_result"
    }
   ],
   "source": [
    "s"
   ]
  },
  {
   "cell_type": "code",
   "execution_count": 9,
   "id": "06a5d23e",
   "metadata": {},
   "outputs": [
    {
     "data": {
      "text/plain": [
       "'H'"
      ]
     },
     "execution_count": 9,
     "metadata": {},
     "output_type": "execute_result"
    }
   ],
   "source": [
    "s[0]"
   ]
  },
  {
   "cell_type": "code",
   "execution_count": 10,
   "id": "31055195",
   "metadata": {},
   "outputs": [
    {
     "data": {
      "text/plain": [
       "'HELLO WORLD'"
      ]
     },
     "execution_count": 10,
     "metadata": {},
     "output_type": "execute_result"
    }
   ],
   "source": [
    "s.upper()"
   ]
  },
  {
   "cell_type": "code",
   "execution_count": 11,
   "id": "b40368db",
   "metadata": {},
   "outputs": [
    {
     "data": {
      "text/plain": [
       "'hello world'"
      ]
     },
     "execution_count": 11,
     "metadata": {},
     "output_type": "execute_result"
    }
   ],
   "source": [
    "s.lower()"
   ]
  },
  {
   "cell_type": "code",
   "execution_count": 12,
   "id": "9c9f9478",
   "metadata": {},
   "outputs": [
    {
     "data": {
      "text/plain": [
       "['Hello', 'World']"
      ]
     },
     "execution_count": 12,
     "metadata": {},
     "output_type": "execute_result"
    }
   ],
   "source": [
    "s.split()"
   ]
  },
  {
   "cell_type": "code",
   "execution_count": 13,
   "id": "71a1b9a7",
   "metadata": {},
   "outputs": [
    {
     "data": {
      "text/plain": [
       "['Hell', ' W', 'rld']"
      ]
     },
     "execution_count": 13,
     "metadata": {},
     "output_type": "execute_result"
    }
   ],
   "source": [
    "s.split('o')"
   ]
  },
  {
   "cell_type": "code",
   "execution_count": 2,
   "id": "770365d7",
   "metadata": {},
   "outputs": [
    {
     "data": {
      "text/plain": [
       "'insert a data shruti in runtime shruti :'"
      ]
     },
     "execution_count": 2,
     "metadata": {},
     "output_type": "execute_result"
    }
   ],
   "source": [
    "a=\"shruti\"\n",
    "\"insert a data {} in runtime {} :\".format(a,a)"
   ]
  },
  {
   "cell_type": "code",
   "execution_count": 3,
   "id": "e1181b26",
   "metadata": {},
   "outputs": [
    {
     "data": {
      "text/plain": [
       "4"
      ]
     },
     "execution_count": 3,
     "metadata": {},
     "output_type": "execute_result"
    }
   ],
   "source": [
    "s=\"shhhrruhuftd\"\n",
    "s.count('h')"
   ]
  },
  {
   "cell_type": "code",
   "execution_count": 4,
   "id": "f8f19d48",
   "metadata": {},
   "outputs": [
    {
     "data": {
      "text/plain": [
       "9"
      ]
     },
     "execution_count": 4,
     "metadata": {},
     "output_type": "execute_result"
    }
   ],
   "source": [
    "s.find('f')"
   ]
  },
  {
   "cell_type": "code",
   "execution_count": 1,
   "id": "96512702",
   "metadata": {},
   "outputs": [
    {
     "data": {
      "text/plain": [
       "[[1, 2, 3], [4, 5, 6], [7, 8, 9]]"
      ]
     },
     "execution_count": 1,
     "metadata": {},
     "output_type": "execute_result"
    }
   ],
   "source": [
    "l1 = [1,2,3]\n",
    "l2 = [4,5,6]\n",
    "l3 = [7,8,9]\n",
    "\n",
    "matrix = [l1,l2,l3]\n",
    "matrix"
   ]
  },
  {
   "cell_type": "code",
   "execution_count": 3,
   "id": "aa6c524b",
   "metadata": {},
   "outputs": [
    {
     "data": {
      "text/plain": [
       "[2, 5, 8]"
      ]
     },
     "execution_count": 3,
     "metadata": {},
     "output_type": "execute_result"
    }
   ],
   "source": [
    "l = []\n",
    "for i in matrix:\n",
    "    l.append(i[1])\n",
    "    \n",
    "l"
   ]
  },
  {
   "cell_type": "code",
   "execution_count": 4,
   "id": "c64f65c8",
   "metadata": {},
   "outputs": [
    {
     "data": {
      "text/plain": [
       "[2, 5, 8]"
      ]
     },
     "execution_count": 4,
     "metadata": {},
     "output_type": "execute_result"
    }
   ],
   "source": [
    "first_col=[row[1] for row in matrix]\n",
    "first_col"
   ]
  },
  {
   "cell_type": "code",
   "execution_count": 5,
   "id": "40f1354f",
   "metadata": {},
   "outputs": [
    {
     "data": {
      "text/plain": [
       "[4, 25, 64]"
      ]
     },
     "execution_count": 5,
     "metadata": {},
     "output_type": "execute_result"
    }
   ],
   "source": [
    "first_col=[row[1]**2 for row in matrix]\n",
    "first_col"
   ]
  },
  {
   "cell_type": "markdown",
   "id": "abcfdf1a",
   "metadata": {},
   "source": [
    "# tuple"
   ]
  },
  {
   "cell_type": "code",
   "execution_count": 6,
   "id": "e0c465c1",
   "metadata": {},
   "outputs": [
    {
     "data": {
      "text/plain": [
       "tuple"
      ]
     },
     "execution_count": 6,
     "metadata": {},
     "output_type": "execute_result"
    }
   ],
   "source": [
    "t=()\n",
    "type(t)"
   ]
  },
  {
   "cell_type": "markdown",
   "id": "a05c7dd1",
   "metadata": {},
   "source": [
    "# Function"
   ]
  },
  {
   "cell_type": "code",
   "execution_count": 3,
   "id": "fbd17f50",
   "metadata": {},
   "outputs": [],
   "source": [
    "def num_square(num):\n",
    "    return num**2,num"
   ]
  },
  {
   "cell_type": "code",
   "execution_count": 4,
   "id": "8594311e",
   "metadata": {},
   "outputs": [
    {
     "data": {
      "text/plain": [
       "(144, 12)"
      ]
     },
     "execution_count": 4,
     "metadata": {},
     "output_type": "execute_result"
    }
   ],
   "source": [
    "num_square(12)"
   ]
  },
  {
   "cell_type": "code",
   "execution_count": 9,
   "id": "9493cee2",
   "metadata": {},
   "outputs": [],
   "source": [
    "def even_odd(num):\n",
    "    if (num%2==0):\n",
    "        print(\"this {} is even\".format(num))\n",
    "    else:\n",
    "        print(\"this {} is odd\".format(num))"
   ]
  },
  {
   "cell_type": "code",
   "execution_count": 10,
   "id": "ab39ad48",
   "metadata": {},
   "outputs": [
    {
     "name": "stdout",
     "output_type": "stream",
     "text": [
      "this 6 is even\n"
     ]
    }
   ],
   "source": [
    "even_odd(6)"
   ]
  },
  {
   "cell_type": "markdown",
   "id": "06801542",
   "metadata": {},
   "source": [
    "# assignment"
   ]
  },
  {
   "cell_type": "markdown",
   "id": "40572918",
   "metadata": {},
   "source": [
    "Write a Python Program to implement your own myreduce() function which works exactly like Python's built-in function reduce()"
   ]
  },
  {
   "cell_type": "code",
   "execution_count": 8,
   "id": "33c2b0e6",
   "metadata": {},
   "outputs": [],
   "source": [
    "def myreduce(anyfunc, sequence):\n",
    "    result = sequence[0]\n",
    "    \n",
    "    for i in sequence[1:]:\n",
    "        result = result+i\n",
    "        \n",
    "    return result"
   ]
  },
  {
   "cell_type": "code",
   "execution_count": 9,
   "id": "f14d97be",
   "metadata": {},
   "outputs": [],
   "source": [
    "def sum(x, y):\n",
    "    return x+y"
   ]
  },
  {
   "cell_type": "code",
   "execution_count": 12,
   "id": "9114c8bf",
   "metadata": {},
   "outputs": [
    {
     "data": {
      "text/plain": [
       "10"
      ]
     },
     "execution_count": 12,
     "metadata": {},
     "output_type": "execute_result"
    }
   ],
   "source": [
    "myreduce(sum,[1,2,3,4])"
   ]
  },
  {
   "cell_type": "code",
   "execution_count": 19,
   "id": "065291c6",
   "metadata": {},
   "outputs": [
    {
     "name": "stdout",
     "output_type": "stream",
     "text": [
      "['A', 'C', 'A', 'D', 'G', 'I', 'L', 'D']\n"
     ]
    }
   ],
   "source": [
    "word='ACADGILD'\n",
    "l=[i for i in word]\n",
    "print(l)\n",
    "    "
   ]
  },
  {
   "cell_type": "code",
   "execution_count": 22,
   "id": "f4310056",
   "metadata": {},
   "outputs": [
    {
     "name": "stdout",
     "output_type": "stream",
     "text": [
      "['x', 'xx', 'xxx', 'xxxx', 'y', 'yy', 'yyy', 'yyyy', 'z', 'zz', 'zzz', 'zzzz']\n"
     ]
    }
   ],
   "source": [
    "list=['x','y','z']\n",
    "i=[item*num for item in list for num in range(1,5)]\n",
    "print(i)"
   ]
  },
  {
   "cell_type": "code",
   "execution_count": 23,
   "id": "00f0f259",
   "metadata": {},
   "outputs": [
    {
     "name": "stdout",
     "output_type": "stream",
     "text": [
      "['x', 'y', 'z', 'xx', 'yy', 'zz', 'xxx', 'yyy', 'zzz', 'xxxx', 'yyyy', 'zzzz']\n"
     ]
    }
   ],
   "source": [
    "list=['x','y','z']\n",
    "i=[item*num for num in range(1,5) for item in list]\n",
    "print(i)"
   ]
  },
  {
   "cell_type": "code",
   "execution_count": 27,
   "id": "518e08d7",
   "metadata": {},
   "outputs": [
    {
     "name": "stdout",
     "output_type": "stream",
     "text": [
      "[[2], [3], [4], [3], [4], [5], [4], [5], [6]]\n"
     ]
    }
   ],
   "source": [
    "list=[2,3,4]\n",
    "l=[[item+num] for item in list for num in range(0,3)]\n",
    "print(l)"
   ]
  },
  {
   "cell_type": "markdown",
   "id": "125420c9",
   "metadata": {},
   "source": [
    "Write a function filter_long_words() that takes a list of words and an integer n and returns\n",
    "the list of words that are longer than n."
   ]
  },
  {
   "cell_type": "code",
   "execution_count": 4,
   "id": "5f0850df",
   "metadata": {},
   "outputs": [],
   "source": [
    "lst= [\"sh\",\"shr\",\"shru\",\"shruti\" , \"tripathi\"]\n",
    "def filter_long_word(lst , n):\n",
    "    return[i for i in lst if len(i)>n]\n"
   ]
  },
  {
   "cell_type": "code",
   "execution_count": 5,
   "id": "5e5a07c8",
   "metadata": {},
   "outputs": [
    {
     "data": {
      "text/plain": [
       "['shruti', 'tripathi']"
      ]
     },
     "execution_count": 5,
     "metadata": {},
     "output_type": "execute_result"
    }
   ],
   "source": [
    "filter_long_word(lst,4)"
   ]
  },
  {
   "cell_type": "markdown",
   "id": "6922825e",
   "metadata": {},
   "source": [
    "Write a Python program using function concept that maps list of words into a list of integers\n",
    "representing the lengths of the corresponding words.\n",
    "Hint: If a list [ ab,cde,erty] is passed on to the python function output should come as [2,3,4]\n",
    "Here 2,3 and 4 are the lengths of the words in the list."
   ]
  },
  {
   "cell_type": "code",
   "execution_count": 2,
   "id": "dac4ca21",
   "metadata": {},
   "outputs": [],
   "source": [
    "lst =[\"ab\",\"cde\",\"erty\"]\n",
    "\n",
    "def len_of_words(lst):\n",
    "    return [len(i) for i in lst]"
   ]
  },
  {
   "cell_type": "code",
   "execution_count": 3,
   "id": "0fae2c1d",
   "metadata": {},
   "outputs": [
    {
     "data": {
      "text/plain": [
       "[2, 3, 4]"
      ]
     },
     "execution_count": 3,
     "metadata": {},
     "output_type": "execute_result"
    }
   ],
   "source": [
    "len_of_words(lst)"
   ]
  },
  {
   "cell_type": "markdown",
   "id": "bcc89fe1",
   "metadata": {},
   "source": [
    "Write a Python function which takes a character (i.e. a string of length 1) and returns True if\n",
    "it is a vowel, False otherwise."
   ]
  },
  {
   "cell_type": "code",
   "execution_count": 4,
   "id": "57eca8c1",
   "metadata": {},
   "outputs": [],
   "source": [
    "def is_vowel(char):\n",
    "    vowels=['a','e','i','o','u']\n",
    "    if char not in vowels:\n",
    "        return False\n",
    "    return True"
   ]
  },
  {
   "cell_type": "code",
   "execution_count": 5,
   "id": "cdc9805b",
   "metadata": {},
   "outputs": [
    {
     "data": {
      "text/plain": [
       "True"
      ]
     },
     "execution_count": 5,
     "metadata": {},
     "output_type": "execute_result"
    }
   ],
   "source": [
    "is_vowel('a')"
   ]
  },
  {
   "cell_type": "code",
   "execution_count": 6,
   "id": "37c857ab",
   "metadata": {},
   "outputs": [
    {
     "data": {
      "text/plain": [
       "False"
      ]
     },
     "execution_count": 6,
     "metadata": {},
     "output_type": "execute_result"
    }
   ],
   "source": [
    "is_vowel('b')"
   ]
  },
  {
   "cell_type": "markdown",
   "id": "37ce1cae",
   "metadata": {},
   "source": [
    " Write a Python program to check if all dictionaries in a list are empty or not."
   ]
  },
  {
   "cell_type": "code",
   "execution_count": 10,
   "id": "37b0ef98",
   "metadata": {},
   "outputs": [
    {
     "name": "stdout",
     "output_type": "stream",
     "text": [
      "True\n",
      "False\n"
     ]
    }
   ],
   "source": [
    "lst1=[{},{},{}]\n",
    "lst2=[{123,456},{},{}]\n",
    "print(all(not d for d in lst1))\n",
    "print(all(not d for d in lst2))"
   ]
  },
  {
   "cell_type": "markdown",
   "id": "cb4867d8",
   "metadata": {},
   "source": [
    "Write a Python program to remove duplicates from a list of lists."
   ]
  },
  {
   "cell_type": "code",
   "execution_count": 12,
   "id": "9dd8e6ea",
   "metadata": {},
   "outputs": [
    {
     "name": "stdout",
     "output_type": "stream",
     "text": [
      "[1, 2]\n",
      "[0, 1, 2, 3, 4]\n",
      "[1, 2, 3, 5, 6, 8, 9, 10, 11, 14, 20, 25, 26]\n"
     ]
    }
   ],
   "source": [
    "List1 = [1,1,2]\n",
    "List2 = [0, 0,1, 1, 1, 2, 2, 3, 3, 4]\n",
    "List3 = [1,1,2,3,3,5,6,6,6,6,6,6,6,8,8,9,10,10,11,14,20,25,25,26,26,26]\n",
    "\n",
    "def dublicates_remover(list):\n",
    "    temp =[]\n",
    "    for x in list:\n",
    "        if x not in temp:\n",
    "            temp.append(x)\n",
    "    print(temp)\n",
    "            \n",
    "            \n",
    "            \n",
    "dublicates_remover(List1)\n",
    "dublicates_remover(List2)\n",
    "dublicates_remover(List3)"
   ]
  },
  {
   "cell_type": "code",
   "execution_count": 21,
   "id": "b99d2e13",
   "metadata": {
    "scrolled": true
   },
   "outputs": [
    {
     "name": "stdout",
     "output_type": "stream",
     "text": [
      "original list [[110, 120], [240], [330, 456, 425], [310, 220], [133], [240]]\n",
      "new list [[110, 120], [133], [240], [310, 220], [330, 456, 425]]\n"
     ]
    }
   ],
   "source": [
    "import itertools\n",
    "num = [[110, 120], [240], [330, 456, 425], [310, 220], [133], [240]]\n",
    "print(\"original list\",num)\n",
    "num.sort()\n",
    "\n",
    "new_num =list(num for num,_ in itertools.groupby(num))\n",
    "print(\"new list\",new_num)\n"
   ]
  },
  {
   "cell_type": "markdown",
   "id": "99ebe689",
   "metadata": {},
   "source": [
    "Write a Python program to extend a list without append."
   ]
  },
  {
   "cell_type": "code",
   "execution_count": 24,
   "id": "f6eca299",
   "metadata": {},
   "outputs": [
    {
     "data": {
      "text/plain": [
       "[403, 503, 603, 103, 320, 430]"
      ]
     },
     "execution_count": 24,
     "metadata": {},
     "output_type": "execute_result"
    }
   ],
   "source": [
    "x = [103, 320, 430]\n",
    "y = [403, 503, 603]\n",
    "x[:0]=y\n",
    "x"
   ]
  },
  {
   "cell_type": "markdown",
   "id": "e710c558",
   "metadata": {},
   "source": [
    "Write a Python program to find the list in a list of lists whose sum of elements is the highest"
   ]
  },
  {
   "cell_type": "code",
   "execution_count": 25,
   "id": "17947204",
   "metadata": {},
   "outputs": [
    {
     "name": "stdout",
     "output_type": "stream",
     "text": [
      "[10, 11, 12]\n"
     ]
    }
   ],
   "source": [
    "my_list = [[1,2,3], [4,5,6], [10,11,12], [7,8,9]]\n",
    "print(max(my_list,key=sum))"
   ]
  },
  {
   "cell_type": "code",
   "execution_count": 26,
   "id": "568e0b29",
   "metadata": {},
   "outputs": [
    {
     "name": "stdout",
     "output_type": "stream",
     "text": [
      "[10, 11, 12]\n"
     ]
    }
   ],
   "source": [
    "print(max(my_list,key=lambda x : sum(x)))"
   ]
  },
  {
   "cell_type": "markdown",
   "id": "a2a44932",
   "metadata": {},
   "source": [
    "Write a Python program to access dictionary key’s element by index."
   ]
  },
  {
   "cell_type": "code",
   "execution_count": 38,
   "id": "b1a3bac6",
   "metadata": {},
   "outputs": [
    {
     "name": "stdout",
     "output_type": "stream",
     "text": [
      "the key john has index 0\n",
      "the key dave has index 1\n",
      "the key jack has index 2\n"
     ]
    }
   ],
   "source": [
    "my_list = {'john': 15, 'dave': 12, 'jack': 10}\n",
    "list_of_keys = list(my_list)\n",
    "for i in range(len(list_of_keys)):\n",
    "    print('the key', list_of_keys[i], 'has index', i)"
   ]
  },
  {
   "cell_type": "code",
   "execution_count": 41,
   "id": "a2b4d3cc",
   "metadata": {},
   "outputs": [
    {
     "name": "stdout",
     "output_type": "stream",
     "text": [
      "the key  stats has index 0\n",
      "the key  math has index 1\n",
      "the key  algorithm has index 2\n"
     ]
    }
   ],
   "source": [
    "num = {'stats': 80, 'math': 90, 'algorithm': 86}\n",
    "list_of_keys = list(num)\n",
    "for i in range(len(list_of_keys)):\n",
    "    print(\"the key \",list_of_keys[i] , \"has index\" , i)"
   ]
  },
  {
   "cell_type": "code",
   "execution_count": 43,
   "id": "d53c70ed",
   "metadata": {},
   "outputs": [
    {
     "name": "stdout",
     "output_type": "stream",
     "text": [
      "['stats', 'math', 'algorithm']\n"
     ]
    }
   ],
   "source": [
    "print(list(num)[:])"
   ]
  },
  {
   "cell_type": "markdown",
   "id": "aa2a5820",
   "metadata": {},
   "source": [
    "Write a Python program to iterate over two lists simultaneously."
   ]
  },
  {
   "cell_type": "code",
   "execution_count": 44,
   "id": "027dc724",
   "metadata": {},
   "outputs": [
    {
     "name": "stdout",
     "output_type": "stream",
     "text": [
      "1 red\n",
      "2 while\n",
      "3 black\n"
     ]
    }
   ],
   "source": [
    "num = [1, 2, 3]\n",
    "color = ['red', 'while', 'black']\n",
    "for (a,b) in zip(num , color):\n",
    "    print(a,b)"
   ]
  },
  {
   "cell_type": "markdown",
   "id": "3f1862ee",
   "metadata": {},
   "source": [
    "write a program to inser a string at the begining of every elements in a list"
   ]
  },
  {
   "cell_type": "code",
   "execution_count": 59,
   "id": "9f1c2421",
   "metadata": {},
   "outputs": [
    {
     "name": "stdout",
     "output_type": "stream",
     "text": [
      "['customers100', 'customers123', 'customers345', 'customers567', 'customers789', 'customers890', 'customers98', 'customers876', 'customers543', 'customers678']\n"
     ]
    }
   ],
   "source": [
    "a = [100,123,345,567,789,890,98,876,543,678]\n",
    "print(['customers'+str(i) for i in a])"
   ]
  },
  {
   "cell_type": "code",
   "execution_count": 61,
   "id": "4af5fc14",
   "metadata": {},
   "outputs": [
    {
     "name": "stdout",
     "output_type": "stream",
     "text": [
      "['customers100', 'customers123', 'customers345', 'customers567', 'customers789', 'customers890', 'customers98', 'customers876', 'customers543', 'customers678']\n"
     ]
    }
   ],
   "source": [
    "print(['customers{0}'.format(i) for i in a])"
   ]
  },
  {
   "cell_type": "markdown",
   "id": "40e5952f",
   "metadata": {},
   "source": [
    "write a program to take two lists and print if they have at least one common member"
   ]
  },
  {
   "cell_type": "code",
   "execution_count": 66,
   "id": "a26ba65e",
   "metadata": {},
   "outputs": [],
   "source": [
    "list1= [121,222,332,432,125]\n",
    "list2= [121,236,457,678,779]\n",
    "\n",
    "def common_number(list1,list2):\n",
    "    result = False\n",
    "    for x in list1:\n",
    "        for y in list2:\n",
    "            if x==y:\n",
    "                result = True\n",
    "    return result"
   ]
  },
  {
   "cell_type": "code",
   "execution_count": 67,
   "id": "702d8cc1",
   "metadata": {},
   "outputs": [
    {
     "data": {
      "text/plain": [
       "True"
      ]
     },
     "execution_count": 67,
     "metadata": {},
     "output_type": "execute_result"
    }
   ],
   "source": [
    "common_number(list1,list2)"
   ]
  },
  {
   "cell_type": "code",
   "execution_count": 70,
   "id": "8e0d6c42",
   "metadata": {},
   "outputs": [
    {
     "name": "stdout",
     "output_type": "stream",
     "text": [
      "list one is [1, 2, 3, 4, 5, 'red'] , list two is ['yellow', 'red', 'blue', 2, 5] their common items are [2, 5, 'red']\n"
     ]
    }
   ],
   "source": [
    "list_one = [1, 2, 3, 4, 5, 'red']\n",
    "list_two = ['yellow', 'red', 'blue', 2, 5]\n",
    "\n",
    "common_items = []\n",
    "for i in list_one:\n",
    "    if i in list_two:\n",
    "        common_items.append(i)\n",
    "print('list one is', list_one, ', list two is', list_two,'their common items are', common_items)"
   ]
  },
  {
   "cell_type": "code",
   "execution_count": 71,
   "id": "47b925fa",
   "metadata": {},
   "outputs": [
    {
     "name": "stdout",
     "output_type": "stream",
     "text": [
      "list one is [1, 2, 3, 4, 5, 'red'] , list two is ['yellow', 'red', 'blue', 2, 5] their common items are [2, 5, 'red']\n"
     ]
    }
   ],
   "source": [
    "common_items = list(set(list_one) & set(list_two))     # common_items = list(set(list_one).intersection(set(list_two)))\n",
    "print('list one is', list_one, ', list two is', list_two,\n",
    "      'their common items are', common_items)"
   ]
  },
  {
   "cell_type": "code",
   "execution_count": 72,
   "id": "ad3fe64b",
   "metadata": {},
   "outputs": [
    {
     "name": "stdout",
     "output_type": "stream",
     "text": [
      "list one is [1, 2, 3, 4, 5, 'red'] , list two is ['yellow', 'red', 'blue', 2, 5] their common items are [2, 5, 'red']\n"
     ]
    }
   ],
   "source": [
    "common_items = list(set(list_one).intersection(set(list_two)))\n",
    "print('list one is', list_one, ', list two is', list_two,\n",
    "      'their common items are', common_items)"
   ]
  },
  {
   "cell_type": "markdown",
   "id": "ae8d3d31",
   "metadata": {},
   "source": [
    "compute all permutations in a list"
   ]
  },
  {
   "cell_type": "code",
   "execution_count": 74,
   "id": "943989c5",
   "metadata": {},
   "outputs": [
    {
     "name": "stdout",
     "output_type": "stream",
     "text": [
      "[(12, 22, 23), (12, 23, 22), (22, 12, 23), (22, 23, 12), (23, 12, 22), (23, 22, 12)]\n"
     ]
    }
   ],
   "source": [
    "import itertools\n",
    "print(list(itertools.permutations([12,22,23])))"
   ]
  },
  {
   "cell_type": "code",
   "execution_count": null,
   "id": "c4ed66d1",
   "metadata": {},
   "outputs": [],
   "source": []
  }
 ],
 "metadata": {
  "kernelspec": {
   "display_name": "Python 3 (ipykernel)",
   "language": "python",
   "name": "python3"
  },
  "language_info": {
   "codemirror_mode": {
    "name": "ipython",
    "version": 3
   },
   "file_extension": ".py",
   "mimetype": "text/x-python",
   "name": "python",
   "nbconvert_exporter": "python",
   "pygments_lexer": "ipython3",
   "version": "3.9.13"
  }
 },
 "nbformat": 4,
 "nbformat_minor": 5
}
